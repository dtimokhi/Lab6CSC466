{
 "cells": [
  {
   "cell_type": "code",
   "execution_count": 1,
   "metadata": {},
   "outputs": [],
   "source": [
    "import numpy as np\n",
    "import pandas as pd\n",
    "import datetime as dt\n",
    "import copy"
   ]
  },
  {
   "cell_type": "code",
   "execution_count": 2,
   "metadata": {},
   "outputs": [],
   "source": [
    "file_t = open('jester-data-1.csv').readlines()"
   ]
  },
  {
   "cell_type": "code",
   "execution_count": 3,
   "metadata": {},
   "outputs": [],
   "source": [
    "mp = pd.read_csv('jester-data-1.csv', header=None).values"
   ]
  },
  {
   "cell_type": "code",
   "execution_count": 4,
   "metadata": {},
   "outputs": [
    {
     "data": {
      "text/plain": [
       "array([[ 74.  ,  -7.82,   8.79, ...,  99.  ,  99.  ,  99.  ],\n",
       "       [100.  ,   4.08,  -0.29, ...,   0.34,  -4.32,   1.07],\n",
       "       [ 49.  ,  99.  ,  99.  , ...,  99.  ,  99.  ,  99.  ],\n",
       "       ...,\n",
       "       [ 39.  ,  99.  ,  99.  , ...,  99.  ,  99.  ,  99.  ],\n",
       "       [ 37.  ,  99.  ,  99.  , ...,  99.  ,  99.  ,  99.  ],\n",
       "       [ 72.  ,   2.43,   2.67, ...,  99.  ,  99.  ,  99.  ]])"
      ]
     },
     "execution_count": 4,
     "metadata": {},
     "output_type": "execute_result"
    }
   ],
   "source": [
    "mp"
   ]
  },
  {
   "cell_type": "code",
   "execution_count": 6,
   "metadata": {},
   "outputs": [],
   "source": [
    "def get_matrix():\n",
    "    return pd.read_csv('jester-data-1.csv', header=None, na_values=99).iloc[:,1:].values"
   ]
  },
  {
   "cell_type": "code",
   "execution_count": 249,
   "metadata": {},
   "outputs": [],
   "source": [
    "class JokerObject:\n",
    "    def __init__(self, matrix):\n",
    "        self.matrix = matrix\n",
    "        self.item_means = np.nanmean(matrix, 0)\n",
    "        self.user_means = np.nanmean(matrix, 1)\n",
    "    def get_matrix(self):\n",
    "        return self.matrix\n",
    "    def get_items_m(self):\n",
    "        return self.item_means\n",
    "    def get_item_m(self, key):\n",
    "        return self.item_means[key]\n",
    "    def get_users_m(self):\n",
    "        return self.user_means\n",
    "    def get_user_m(self, key):\n",
    "        return self.user_means[key]\n",
    "    def get_item(self, row, col):\n",
    "        return self.matrix[row][col]\n",
    "    def set_object_nan(self, row, col):\n",
    "        self.matrix[row][col] = np.nan\n",
    "    def get_pearson_matrix(self):\n",
    "        distances = np.zeros((len(self.item_means),len(self.item_means)))\n",
    "        transposes = self.matrix.transpose()\n",
    "        t0 = dt.datetime.now()\n",
    "        for i, item_1 in enumerate(transposes):\n",
    "            if i % 1 == 0:\n",
    "                print(i)\n",
    "                print(\"time: \", dt.datetime.now() - t0)\n",
    "            for j, item_2 in enumerate(transposes):\n",
    "                if(i>j):\n",
    "                    continue\n",
    "                if i != j:\n",
    "                    top = np.sum((a-self.item_means[i])*(b-self.item_means[j]) for a,b in zip(item_1,item_2) if np.isnan(a)== False and np.isnan(b) == False)\n",
    "                    bot = np.sqrt(np.sum(np.square(a-self.item_means[i]) for index, a in enumerate(item_1) if np.isnan(a)== False and np.isnan(item_2[index]) == False)*np.sum(np.square(b-self.item_means[j]) for index, b in enumerate(item_2) if np.isnan(b)== False and np.isnan(item_1[index]) == False))\n",
    "                    distances[i,j] = top/bot \n",
    "                    distances[j,i] = distances[i,j]\n",
    "        return distances\n",
    "                    "
   ]
  },
  {
   "cell_type": "code",
   "execution_count": 250,
   "metadata": {},
   "outputs": [],
   "source": [
    "t = np.array([1,3,9])\n",
    "t2 = np.array([5,6,2])\n",
    "t3 = np.array([3,2,8])\n",
    "t4 = np.array([t,t2,t3])"
   ]
  },
  {
   "cell_type": "code",
   "execution_count": 251,
   "metadata": {},
   "outputs": [],
   "source": [
    "t4 = JokerObject(get_matrix())"
   ]
  },
  {
   "cell_type": "code",
   "execution_count": 252,
   "metadata": {},
   "outputs": [],
   "source": [
    "#t4.get_matrix().transpose()"
   ]
  },
  {
   "cell_type": "code",
   "execution_count": 253,
   "metadata": {},
   "outputs": [],
   "source": [
    "#m = JokerObject(t4)"
   ]
  },
  {
   "cell_type": "code",
   "execution_count": 254,
   "metadata": {},
   "outputs": [
    {
     "name": "stdout",
     "output_type": "stream",
     "text": [
      "0\n",
      "time:  0:00:00.000073\n",
      "1\n",
      "time:  0:00:35.194998\n",
      "2\n",
      "time:  0:01:11.520558\n",
      "3\n",
      "time:  0:01:46.592903\n",
      "4\n",
      "time:  0:02:20.003958\n",
      "5\n",
      "time:  0:02:59.880621\n",
      "6\n",
      "time:  0:03:36.265339\n",
      "7\n",
      "time:  0:04:14.722614\n",
      "8\n",
      "time:  0:04:52.577532\n",
      "9\n",
      "time:  0:05:24.304114\n",
      "10\n",
      "time:  0:05:58.529913\n",
      "11\n",
      "time:  0:06:33.943478\n",
      "12\n",
      "time:  0:07:08.957152\n",
      "13\n",
      "time:  0:07:44.828171\n",
      "14\n",
      "time:  0:08:18.939866\n",
      "15\n",
      "time:  0:08:54.323684\n",
      "16\n",
      "time:  0:09:28.949989\n",
      "17\n",
      "time:  0:10:03.339798\n",
      "18\n",
      "time:  0:10:37.074643\n",
      "19\n",
      "time:  0:11:10.220716\n",
      "20\n",
      "time:  0:11:42.868595\n",
      "21\n",
      "time:  0:12:14.932576\n",
      "22\n",
      "time:  0:12:44.742466\n",
      "23\n",
      "time:  0:13:13.536172\n",
      "24\n",
      "time:  0:13:39.948080\n",
      "25\n",
      "time:  0:14:08.316974\n",
      "26\n",
      "time:  0:14:38.223376\n",
      "27\n",
      "time:  0:15:08.058685\n",
      "28\n",
      "time:  0:15:36.878455\n",
      "29\n",
      "time:  0:16:05.797303\n",
      "30\n",
      "time:  0:16:31.118612\n",
      "31\n",
      "time:  0:16:58.655709\n",
      "32\n",
      "time:  0:17:26.163850\n",
      "33\n",
      "time:  0:17:49.688426\n",
      "34\n",
      "time:  0:18:14.949165\n",
      "35\n",
      "time:  0:18:40.979413\n",
      "36\n",
      "time:  0:19:06.630555\n",
      "37\n",
      "time:  0:19:28.736277\n",
      "38\n",
      "time:  0:19:52.578892\n",
      "39\n",
      "time:  0:20:16.314728\n",
      "40\n",
      "time:  0:20:39.768037\n",
      "41\n",
      "time:  0:21:00.833279\n",
      "42\n",
      "time:  0:21:23.724189\n",
      "43\n",
      "time:  0:21:43.501536\n",
      "44\n",
      "time:  0:22:02.554628\n",
      "45\n",
      "time:  0:22:23.143393\n",
      "46\n",
      "time:  0:22:43.934730\n",
      "47\n",
      "time:  0:23:03.785942\n",
      "48\n",
      "time:  0:23:24.070189\n",
      "49\n",
      "time:  0:23:44.048124\n",
      "50\n",
      "time:  0:24:03.606172\n",
      "51\n",
      "time:  0:24:20.969985\n",
      "52\n",
      "time:  0:24:38.135276\n",
      "53\n",
      "time:  0:24:56.323784\n",
      "54\n",
      "time:  0:25:13.958063\n",
      "55\n",
      "time:  0:25:29.749611\n",
      "56\n",
      "time:  0:25:46.601936\n",
      "57\n",
      "time:  0:26:00.609368\n",
      "58\n",
      "time:  0:26:14.348092\n",
      "59\n",
      "time:  0:26:28.225817\n",
      "60\n",
      "time:  0:26:41.760506\n",
      "61\n",
      "time:  0:26:56.457150\n",
      "62\n",
      "time:  0:27:10.670458\n",
      "63\n",
      "time:  0:27:23.366167\n",
      "64\n",
      "time:  0:27:35.247400\n",
      "65\n",
      "time:  0:27:48.161721\n",
      "66\n",
      "time:  0:28:00.546332\n",
      "67\n",
      "time:  0:28:11.173404\n",
      "68\n",
      "time:  0:28:22.682988\n",
      "69\n",
      "time:  0:28:33.678298\n",
      "70\n",
      "time:  0:28:43.569721\n",
      "71\n",
      "time:  0:28:51.360130\n",
      "72\n",
      "time:  0:28:58.922064\n",
      "73\n",
      "time:  0:29:06.278888\n",
      "74\n",
      "time:  0:29:13.294983\n",
      "75\n",
      "time:  0:29:20.124815\n",
      "76\n",
      "time:  0:29:26.652615\n",
      "77\n",
      "time:  0:29:32.915081\n",
      "78\n",
      "time:  0:29:39.004003\n",
      "79\n",
      "time:  0:29:44.825980\n",
      "80\n",
      "time:  0:29:50.344697\n",
      "81\n",
      "time:  0:29:55.613314\n",
      "82\n",
      "time:  0:30:00.588921\n",
      "83\n",
      "time:  0:30:05.339995\n",
      "84\n",
      "time:  0:30:09.751525\n",
      "85\n",
      "time:  0:30:13.925666\n",
      "86\n",
      "time:  0:30:17.834071\n",
      "87\n",
      "time:  0:30:21.486392\n",
      "88\n",
      "time:  0:30:24.862563\n",
      "89\n",
      "time:  0:30:28.214909\n",
      "90\n",
      "time:  0:30:31.101287\n",
      "91\n",
      "time:  0:30:33.668380\n",
      "92\n",
      "time:  0:30:35.956653\n",
      "93\n",
      "time:  0:30:37.978962\n",
      "94\n",
      "time:  0:30:39.697467\n",
      "95\n",
      "time:  0:30:41.155639\n",
      "96\n",
      "time:  0:30:42.324767\n",
      "97\n",
      "time:  0:30:43.201191\n",
      "98\n",
      "time:  0:30:43.784301\n",
      "99\n",
      "time:  0:30:44.076759\n",
      "time:  0:30:44.077221\n"
     ]
    }
   ],
   "source": [
    "# Got distance matrix\n",
    "t0 = dt.datetime.now()\n",
    "dist = t4.get_pearson_matrix()\n",
    "print(\"time: \", dt.datetime.now() - t0)"
   ]
  },
  {
   "cell_type": "code",
   "execution_count": 287,
   "metadata": {},
   "outputs": [],
   "source": [
    "'''\n",
    "    Distance matrix 100 x 100 by items\n",
    "    coords is (user, item) to guess\n",
    "'''\n",
    "def get_avg_weighted_sum(distance_matrix, data_matrix, coords):\n",
    "    if not np.isnan(data_matrix.get_item(coords[0],coords[1])):\n",
    "        data_matrix = copy.deepcopy(data_matrix)\n",
    "        data_matrix.set_object_nan(coords[0],coords[1])\n",
    "    return data_matrix.get_item_m(coords[1]) + (1/distance_matrix.sum(axis=0)[coords[1]])*np.sum(distance_matrix[coords[1]][c_prime]*(data_matrix.get_item(coords[0], c_prime)-data_matrix.get_item_m(c_prime))for c_prime in range(distance_matrix.shape[0]) if not np.isnan(data_matrix.get_item(coords[0], c_prime)))\n"
   ]
  },
  {
   "cell_type": "code",
   "execution_count": 288,
   "metadata": {},
   "outputs": [],
   "source": [
    "file = open(\"distance_items.txt\",'w')\n",
    "for row in dist:\n",
    "    row = [str(x) for x in row]\n",
    "    file.write(\",\".join(row) + \"\\n\")\n",
    "file.close()"
   ]
  },
  {
   "cell_type": "code",
   "execution_count": 289,
   "metadata": {},
   "outputs": [
    {
     "data": {
      "text/plain": [
       "-3.2671252495585623"
      ]
     },
     "execution_count": 289,
     "metadata": {},
     "output_type": "execute_result"
    }
   ],
   "source": [
    "get_avg_weighted_sum(dist,t4,(0,1))"
   ]
  },
  {
   "cell_type": "code",
   "execution_count": 281,
   "metadata": {},
   "outputs": [
    {
     "data": {
      "text/plain": [
       "array([[-7.82,  8.79, -9.66, ...,   nan,   nan,   nan],\n",
       "       [ 4.08, -0.29,  6.36, ...,  0.34, -4.32,  1.07],\n",
       "       [  nan,   nan,   nan, ...,   nan,   nan,   nan],\n",
       "       ...,\n",
       "       [  nan,   nan,   nan, ...,   nan,   nan,   nan],\n",
       "       [  nan,   nan,   nan, ...,   nan,   nan,   nan],\n",
       "       [ 2.43,  2.67, -3.98, ...,   nan,   nan,   nan]])"
      ]
     },
     "execution_count": 281,
     "metadata": {},
     "output_type": "execute_result"
    }
   ],
   "source": [
    "t4.get_matrix()"
   ]
  },
  {
   "cell_type": "code",
   "execution_count": 285,
   "metadata": {},
   "outputs": [
    {
     "data": {
      "text/plain": [
       "array([[1, 2],\n",
       "       [3, 4]])"
      ]
     },
     "execution_count": 285,
     "metadata": {},
     "output_type": "execute_result"
    }
   ],
   "source": [
    "t = np.array([[1,2],[3,4]])\n",
    "t"
   ]
  },
  {
   "cell_type": "code",
   "execution_count": 286,
   "metadata": {},
   "outputs": [
    {
     "data": {
      "text/plain": [
       "10"
      ]
     },
     "execution_count": 286,
     "metadata": {},
     "output_type": "execute_result"
    }
   ],
   "source": [
    "t.sum()"
   ]
  },
  {
   "cell_type": "code",
   "execution_count": 77,
   "metadata": {},
   "outputs": [],
   "source": [
    "def get_average_ranking(data_matrix, coords):\n",
    "    if not np.isnan(data_matrix.get_item(coords[0],coords[1])):\n",
    "        data_matrix = copy.deepcopy(data_matrix)\n",
    "        data_matrix.set_object_nan(coords[0],coords[1])\n",
    "    utilities = [data_matrix.get_item(c,coords[1])for c in range(data_matrix.get_matrix().shape[0]) if not np.isnan(data_matrix.get_item(c, coords[1]))]\n",
    "    return (1/len(utilities))*sum(utilities)"
   ]
  },
  {
   "cell_type": "code",
   "execution_count": 78,
   "metadata": {},
   "outputs": [
    {
     "data": {
      "text/plain": [
       "2.372631578947368"
      ]
     },
     "execution_count": 78,
     "metadata": {},
     "output_type": "execute_result"
    }
   ],
   "source": [
    "get_average_ranking(t4, (0,53))"
   ]
  },
  {
   "cell_type": "code",
   "execution_count": 292,
   "metadata": {},
   "outputs": [],
   "source": [
    "def get_adjusted_weighted_Nnn_sum(distance_matrix, data_matrix, coords, N = 3):\n",
    "    if not np.isnan(data_matrix.get_item(coords[0],coords[1])):\n",
    "        data_matrix = copy.deepcopy(data_matrix)\n",
    "        data_matrix.set_object_nan(coords[0],coords[1])\n",
    "    return data_matrix.get_item_m(coords[1]) + (1/distance_matrix.sum(axis=0)[coords[1]])*np.sum(distance_matrix[coords[1]][c_prime]*(data_matrix.get_item(coords[0], c_prime)-data_matrix.get_item_m(c_prime))for c_prime in dist[coords[1],].argsort()[:N] if not np.isnan(data_matrix.get_item(coords[0], c_prime)))"
   ]
  },
  {
   "cell_type": "code",
   "execution_count": 294,
   "metadata": {},
   "outputs": [
    {
     "data": {
      "text/plain": [
       "0.22701042946740263"
      ]
     },
     "execution_count": 294,
     "metadata": {},
     "output_type": "execute_result"
    }
   ],
   "source": [
    "get_adjusted_weighted_Nnn_sum(dist, t4, (0,2), 4)"
   ]
  },
  {
   "cell_type": "code",
   "execution_count": 56,
   "metadata": {},
   "outputs": [],
   "source": [
    "tmp = dist[np.arange(dist.shape[0]) != 1][:,1]"
   ]
  },
  {
   "cell_type": "code",
   "execution_count": 296,
   "metadata": {},
   "outputs": [
    {
     "data": {
      "text/plain": [
       "array([[-7.82,  8.79, -9.66, ...,   nan,   nan,   nan],\n",
       "       [ 4.08, -0.29,  6.36, ...,  0.34, -4.32,  1.07],\n",
       "       [  nan,   nan,   nan, ...,   nan,   nan,   nan],\n",
       "       ...,\n",
       "       [  nan,   nan,   nan, ...,   nan,   nan,   nan],\n",
       "       [  nan,   nan,   nan, ...,   nan,   nan,   nan],\n",
       "       [ 2.43,  2.67, -3.98, ...,   nan,   nan,   nan]])"
      ]
     },
     "execution_count": 296,
     "metadata": {},
     "output_type": "execute_result"
    }
   ],
   "source": [
    "t4.get_matrix()"
   ]
  },
  {
   "cell_type": "code",
   "execution_count": 57,
   "metadata": {},
   "outputs": [
    {
     "data": {
      "text/plain": [
       "array([2, 1, 3, 0])"
      ]
     },
     "execution_count": 57,
     "metadata": {},
     "output_type": "execute_result"
    }
   ],
   "source": [
    "np.abs(tmp).argsort()"
   ]
  },
  {
   "cell_type": "code",
   "execution_count": 58,
   "metadata": {},
   "outputs": [
    {
     "data": {
      "text/plain": [
       "array([0, 1, 3])"
      ]
     },
     "execution_count": 58,
     "metadata": {},
     "output_type": "execute_result"
    }
   ],
   "source": [
    "np.delete(dist[0,],0).argsort()[:3]"
   ]
  },
  {
   "cell_type": "code",
   "execution_count": 59,
   "metadata": {},
   "outputs": [],
   "source": [
    "t = np.delete(tmp,0)"
   ]
  },
  {
   "cell_type": "code",
   "execution_count": 60,
   "metadata": {},
   "outputs": [
    {
     "data": {
      "text/plain": [
       "array([2, 0, 1])"
      ]
     },
     "execution_count": 60,
     "metadata": {},
     "output_type": "execute_result"
    }
   ],
   "source": [
    "t.argsort()[:3]"
   ]
  },
  {
   "cell_type": "code",
   "execution_count": 61,
   "metadata": {},
   "outputs": [
    {
     "data": {
      "text/plain": [
       "array([[ 0.        , -0.23975997,  0.08422171,  0.39590991,  0.33005565],\n",
       "       [ 0.08422171, -0.07953065,  0.        ,  0.34000639,  0.33146463],\n",
       "       [ 0.39590991,  0.04503484,  0.34000639,  0.        ,  0.44410961],\n",
       "       [ 0.33005565, -0.11300586,  0.33146463,  0.44410961,  0.        ]])"
      ]
     },
     "execution_count": 61,
     "metadata": {},
     "output_type": "execute_result"
    }
   ],
   "source": [
    "dist[np.arange(dist.shape[0]) != 1]"
   ]
  },
  {
   "cell_type": "code",
   "execution_count": 73,
   "metadata": {},
   "outputs": [
    {
     "data": {
      "text/plain": [
       "(100, 100)"
      ]
     },
     "execution_count": 73,
     "metadata": {},
     "output_type": "execute_result"
    }
   ],
   "source": [
    "dist.shape"
   ]
  },
  {
   "cell_type": "code",
   "execution_count": 74,
   "metadata": {},
   "outputs": [
    {
     "data": {
      "text/plain": [
       "array([ 0.00000000e+00,  4.29376816e-01,  4.97969880e-01,  5.31639699e-01,\n",
       "        3.54819055e-01,  1.62217803e-01,  4.45399817e-01,  4.64562150e-01,\n",
       "        4.62404706e-01,  3.76828809e-01,  5.17247003e-01,  3.40088394e-01,\n",
       "        1.52691477e-01,  2.65879811e-01,  1.29786999e-01,  7.09107331e-02,\n",
       "        2.22409331e-01,  3.77401155e-02,  2.15610835e-01,  2.06294832e-01,\n",
       "        2.50638519e-01,  2.31253304e-01,  3.05092245e-01,  2.91004111e-01,\n",
       "        4.75663833e-01,  3.11785952e-01,  1.90120139e-02,  1.93114225e-01,\n",
       "        2.32691677e-01,  3.03513358e-01,  2.40951409e-01,  1.61943335e-01,\n",
       "        3.83485923e-01,  1.21628885e-01,  1.71521336e-01,  9.37446322e-02,\n",
       "        5.03658407e-01,  4.72663852e-01,  1.41568087e-01,  6.63322286e-01,\n",
       "        5.69550525e-01,  5.85647194e-03,  3.86901115e-01,  9.47271586e-02,\n",
       "        2.11145525e-01,  2.87117453e-01,  1.16695293e-01,  3.48942520e-01,\n",
       "        1.31710376e-01, -1.77699740e-03,  3.86127902e-01,  2.65640350e-01,\n",
       "       -3.21791188e-02,  1.55598503e-01,  3.24156434e-01,  2.89178582e-01,\n",
       "        2.66647438e-01,  3.12709088e-01,  1.63144552e-01,  5.03258185e-01,\n",
       "        2.84934228e-01,  1.98581299e-01,  3.50918189e-01,  4.31840123e-01,\n",
       "        3.35668737e-01,  2.00059545e-01,  4.89456530e-01,  2.25078120e-02,\n",
       "        9.55427877e-02,  2.09477534e-01, -1.78316920e-02,  1.29843624e-01,\n",
       "        9.14104517e-02,  3.85303235e-01,  1.48918718e-02,  2.95623143e-01,\n",
       "        5.44122132e-02,  3.26715991e-02, -7.05640723e-03, -1.31787162e-01,\n",
       "        6.23688449e-01,  2.56155011e-01,  2.82185671e-01,  2.24978249e-01,\n",
       "        1.55310280e-01,  4.75566988e-01, -6.12066219e-02,  2.25737224e-01,\n",
       "       -8.62642235e-02,  8.69503490e-02,  2.17813452e-01, -4.94665465e-02,\n",
       "        1.23372668e-01,  3.83224132e-01,  2.28144237e-01, -1.75297400e-01,\n",
       "        5.34181521e-01,  8.47759318e-02,  2.08266709e-01,  4.25234815e-04])"
      ]
     },
     "execution_count": 74,
     "metadata": {},
     "output_type": "execute_result"
    }
   ],
   "source": [
    "dist[0]"
   ]
  },
  {
   "cell_type": "code",
   "execution_count": 24,
   "metadata": {},
   "outputs": [],
   "source": [
    "t = np.matrix(dist)"
   ]
  },
  {
   "cell_type": "code",
   "execution_count": 28,
   "metadata": {},
   "outputs": [
    {
     "data": {
      "text/plain": [
       "matrix([[-0.23975997,  0.        , -0.07953065,  0.04503484, -0.11300586,\n",
       "          0.        ,  0.        ,  0.        ,  0.        ,  0.        ,\n",
       "          0.        ,  0.        ,  0.        ,  0.        ,  0.        ,\n",
       "          0.        ,  0.        ,  0.        ,  0.        ,  0.        ,\n",
       "          0.        ,  0.        ,  0.        ,  0.        ,  0.        ,\n",
       "          0.        ,  0.        ,  0.        ,  0.        ,  0.        ,\n",
       "          0.        ,  0.        ,  0.        ,  0.        ,  0.        ,\n",
       "          0.        ,  0.        ,  0.        ,  0.        ,  0.        ,\n",
       "          0.        ,  0.        ,  0.        ,  0.        ,  0.        ,\n",
       "          0.        ,  0.        ,  0.        ,  0.        ,  0.        ,\n",
       "          0.        ,  0.        ,  0.        ,  0.        ,  0.        ,\n",
       "          0.        ,  0.        ,  0.        ,  0.        ,  0.        ,\n",
       "          0.        ,  0.        ,  0.        ,  0.        ,  0.        ,\n",
       "          0.        ,  0.        ,  0.        ,  0.        ,  0.        ,\n",
       "          0.        ,  0.        ,  0.        ,  0.        ,  0.        ,\n",
       "          0.        ,  0.        ,  0.        ,  0.        ,  0.        ,\n",
       "          0.        ,  0.        ,  0.        ,  0.        ,  0.        ,\n",
       "          0.        ,  0.        ,  0.        ,  0.        ,  0.        ,\n",
       "          0.        ,  0.        ,  0.        ,  0.        ,  0.        ,\n",
       "          0.        ,  0.        ,  0.        ,  0.        ,  0.        ]])"
      ]
     },
     "execution_count": 28,
     "metadata": {},
     "output_type": "execute_result"
    }
   ],
   "source": []
  },
  {
   "cell_type": "code",
   "execution_count": 19,
   "metadata": {},
   "outputs": [
    {
     "data": {
      "text/plain": [
       "array([[ 0.        , -0.23975997,  0.08422171, ...,  0.        ,\n",
       "         0.        ,  0.        ],\n",
       "       [-0.23975997,  0.        , -0.07953065, ...,  0.        ,\n",
       "         0.        ,  0.        ],\n",
       "       [ 0.08422171, -0.07953065,  0.        , ...,  0.        ,\n",
       "         0.        ,  0.        ],\n",
       "       ...,\n",
       "       [ 0.        ,  0.        ,  0.        , ...,  0.        ,\n",
       "         0.        ,  0.        ],\n",
       "       [ 0.        ,  0.        ,  0.        , ...,  0.        ,\n",
       "         0.        ,  0.        ],\n",
       "       [ 0.        ,  0.        ,  0.        , ...,  0.        ,\n",
       "         0.        ,  0.        ]])"
      ]
     },
     "execution_count": 19,
     "metadata": {},
     "output_type": "execute_result"
    }
   ],
   "source": [
    "dist"
   ]
  },
  {
   "cell_type": "code",
   "execution_count": 29,
   "metadata": {},
   "outputs": [
    {
     "data": {
      "text/plain": [
       "array([[ 0.        , -0.23975997,  0.08422171, ...,  0.        ,\n",
       "         0.        ,  0.        ],\n",
       "       [-0.23975997,  0.        , -0.07953065, ...,  0.        ,\n",
       "         0.        ,  0.        ],\n",
       "       [ 0.08422171, -0.07953065,  0.        , ...,  0.        ,\n",
       "         0.        ,  0.        ],\n",
       "       ...,\n",
       "       [ 0.        ,  0.        ,  0.        , ...,  0.        ,\n",
       "         0.        ,  0.        ],\n",
       "       [ 0.        ,  0.        ,  0.        , ...,  0.        ,\n",
       "         0.        ,  0.        ],\n",
       "       [ 0.        ,  0.        ,  0.        , ...,  0.        ,\n",
       "         0.        ,  0.        ]])"
      ]
     },
     "execution_count": 29,
     "metadata": {},
     "output_type": "execute_result"
    }
   ],
   "source": [
    "dist.transpose()"
   ]
  },
  {
   "cell_type": "code",
   "execution_count": 121,
   "metadata": {},
   "outputs": [
    {
     "data": {
      "text/plain": [
       "matrix([[nan,  2.,  4.],\n",
       "        [ 4.,  5.,  6.]])"
      ]
     },
     "execution_count": 121,
     "metadata": {},
     "output_type": "execute_result"
    }
   ],
   "source": [
    "t = np.matrix([[np.nan,2,4],[4,5,6]])\n",
    "t"
   ]
  },
  {
   "cell_type": "code",
   "execution_count": 122,
   "metadata": {},
   "outputs": [
    {
     "data": {
      "text/plain": [
       "range(0, 3)"
      ]
     },
     "execution_count": 122,
     "metadata": {},
     "output_type": "execute_result"
    }
   ],
   "source": [
    "range(t.shape[1])"
   ]
  },
  {
   "cell_type": "code",
   "execution_count": 124,
   "metadata": {},
   "outputs": [
    {
     "data": {
      "text/plain": [
       "matrix([[nan],\n",
       "        [ 4.]])"
      ]
     },
     "execution_count": 124,
     "metadata": {},
     "output_type": "execute_result"
    }
   ],
   "source": [
    "t[:,0]"
   ]
  },
  {
   "cell_type": "code",
   "execution_count": 111,
   "metadata": {},
   "outputs": [],
   "source": [
    "    def get_pearson_matrix(self):\n",
    "        distances = np.zeros((len(self.item_means),len(self.item_means)))\n",
    "        transposes = np.matrix(self.matrix).transpose()\n",
    "        for item_1 in range(transposes.shape[1]):\n",
    "            for item_2 in enumerate(transposes.shape[1]):\n",
    "                if(i>j):\n",
    "                    continue\n",
    "                if i != j:\n",
    "                    \n",
    "                    top = np.sum((a-self.item_means[i])*(b-self.item_means[j]) for a,b in zip(transposes[:,item_1],transposes[:,item_2]) if np.isnan(a)== False and np.isnan(b) == False)\n",
    "                    bot = np.sqrt(np.sum(np.square(a-self.item_means[i]) for index, a in enumerate(transposes[:,item_1]) if np.isnan(a)== False and np.isnan(item_2[index]) == False)*np.sum(np.square(b-self.item_means[j]) for index, b in enumerate(transposes[:,item_2]) if np.isnan(b)== False and np.isnan(item_1[index]) == False))\n",
    "                    distances[i,j] = top/bot \n",
    "                    distances[j,i] = distances[i,j]\n",
    "        return distances"
   ]
  },
  {
   "cell_type": "code",
   "execution_count": 128,
   "metadata": {},
   "outputs": [
    {
     "name": "stdout",
     "output_type": "stream",
     "text": [
      "[[ True]]\n",
      "[[False]]\n"
     ]
    }
   ],
   "source": [
    "for i in t[:,0]:\n",
    "    print(np.isnan(i) == True)"
   ]
  },
  {
   "cell_type": "code",
   "execution_count": null,
   "metadata": {},
   "outputs": [],
   "source": []
  }
 ],
 "metadata": {
  "kernelspec": {
   "display_name": "Python 3",
   "language": "python",
   "name": "python3"
  },
  "language_info": {
   "codemirror_mode": {
    "name": "ipython",
    "version": 3
   },
   "file_extension": ".py",
   "mimetype": "text/x-python",
   "name": "python",
   "nbconvert_exporter": "python",
   "pygments_lexer": "ipython3",
   "version": "3.6.5"
  }
 },
 "nbformat": 4,
 "nbformat_minor": 2
}
