{
 "cells": [
  {
   "cell_type": "code",
   "execution_count": 37,
   "metadata": {},
   "outputs": [],
   "source": [
    "import numpy as np\n",
    "import pandas as pd\n",
    "import datetime as dt"
   ]
  },
  {
   "cell_type": "code",
   "execution_count": 2,
   "metadata": {},
   "outputs": [],
   "source": [
    "file_t = open('jester-data-1.csv').readlines()"
   ]
  },
  {
   "cell_type": "code",
   "execution_count": 3,
   "metadata": {},
   "outputs": [],
   "source": [
    "mp = pd.read_csv('jester-data-1.csv', header=None).values"
   ]
  },
  {
   "cell_type": "code",
   "execution_count": 4,
   "metadata": {},
   "outputs": [
    {
     "data": {
      "text/plain": [
       "array([[ 74.  ,  -7.82,   8.79, ...,  99.  ,  99.  ,  99.  ],\n",
       "       [100.  ,   4.08,  -0.29, ...,   0.34,  -4.32,   1.07],\n",
       "       [ 49.  ,  99.  ,  99.  , ...,  99.  ,  99.  ,  99.  ],\n",
       "       ...,\n",
       "       [ 39.  ,  99.  ,  99.  , ...,  99.  ,  99.  ,  99.  ],\n",
       "       [ 37.  ,  99.  ,  99.  , ...,  99.  ,  99.  ,  99.  ],\n",
       "       [ 72.  ,   2.43,   2.67, ...,  99.  ,  99.  ,  99.  ]])"
      ]
     },
     "execution_count": 4,
     "metadata": {},
     "output_type": "execute_result"
    }
   ],
   "source": [
    "mp"
   ]
  },
  {
   "cell_type": "code",
   "execution_count": 5,
   "metadata": {},
   "outputs": [],
   "source": [
    "def get_matrix():\n",
    "    return pd.read_csv('jester-data-1.csv', header=None, na_values=99).iloc[:,1:].values"
   ]
  },
  {
   "cell_type": "code",
   "execution_count": 72,
   "metadata": {},
   "outputs": [],
   "source": [
    "class JokerObject:\n",
    "    def __init__(self, matrix):\n",
    "        self.matrix = matrix\n",
    "        self.item_means = np.nanmean(matrix, 0)\n",
    "        self.user_means = np.nanmean(matrix, 1)\n",
    "    def get_matrix(self):\n",
    "        return self.matrix\n",
    "    def get_items_m(self):\n",
    "        return self.item_means\n",
    "    def get_item_m(self, key):\n",
    "        return self.item_means[key]\n",
    "    def get_users_m(self):\n",
    "        return self.user_means\n",
    "    def get_user_m(self, key):\n",
    "        return self.user_means[key]\n",
    "    def get_item(self, row, col):\n",
    "        return self.matrix[row][col]\n",
    "    def get_pearson_matrix(self):\n",
    "        distances = np.zeros((len(self.user_means),len(self.user_means)))\n",
    "        for i, user_1 in enumerate(self.matrix):\n",
    "            for j, user_2 in enumerate(self.matrix):\n",
    "                if(i>j):\n",
    "                    continue\n",
    "                if i != j:\n",
    "                    distances[i,j] = np.sum((a-self.user_means[i])*(b-self.user_means[j]) for a,b in zip(user_1,user_2) if np.isnan(a)== False and np.isnan(b) == False)/np.sqrt(np.sum(np.square(a-self.user_means[i]) for index, a in enumerate(user_1) if np.isnan(a)== False and np.isnan(user_2[index]) == False)*np.sum(np.square(b-self.user_means[j]) for index, b in enumerate(user_2) if np.isnan(b)== False and np.isnan(user_1[index]) == False))\n",
    "                    distances[j,i] = distances[i,j]\n",
    "        return distances\n",
    "                    "
   ]
  },
  {
   "cell_type": "code",
   "execution_count": 73,
   "metadata": {},
   "outputs": [],
   "source": [
    "t = np.array([1,3,9])\n",
    "t2 = np.array([5,6,2])\n",
    "t3 = np.array([3,2,8])\n",
    "t4 = np.array([t,t2,t3])"
   ]
  },
  {
   "cell_type": "code",
   "execution_count": 200,
   "metadata": {},
   "outputs": [],
   "source": [
    "t4 = JokerObject(get_matrix()[0:5])"
   ]
  },
  {
   "cell_type": "code",
   "execution_count": 201,
   "metadata": {},
   "outputs": [],
   "source": [
    "#m = JokerObject(t4)"
   ]
  },
  {
   "cell_type": "code",
   "execution_count": 202,
   "metadata": {},
   "outputs": [
    {
     "name": "stdout",
     "output_type": "stream",
     "text": [
      "time:  0:00:00.018651\n"
     ]
    }
   ],
   "source": [
    "# Got distance matrix\n",
    "t0 = dt.datetime.now()\n",
    "dist = t4.get_pearson_matrix()\n",
    "print(\"time: \", dt.datetime.now() - t0)"
   ]
  },
  {
   "cell_type": "code",
   "execution_count": 203,
   "metadata": {},
   "outputs": [],
   "source": [
    "def get_avg_weighted_sum(distance_matrix, data_matrix, coords):\n",
    "    return data_matrix.get_user_m(coords[0]) + (1/distance_matrix.sum(axis=0)[coords[0]])*np.sum(distance_matrix[coords[0]][c_prime]*(data_matrix.get_item(c_prime, coords[1])-data_matrix.get_user_m(c_prime))for c_prime in range(distance_matrix.shape[0]) if not np.isnan(data_matrix.get_item(c_prime, coords[1])))"
   ]
  },
  {
   "cell_type": "code",
   "execution_count": 204,
   "metadata": {},
   "outputs": [
    {
     "data": {
      "text/plain": [
       "-0.9562849064966641"
      ]
     },
     "execution_count": 204,
     "metadata": {},
     "output_type": "execute_result"
    }
   ],
   "source": [
    "get_avg_weighted_sum(dist,t4,(0,0))"
   ]
  },
  {
   "cell_type": "code",
   "execution_count": 205,
   "metadata": {},
   "outputs": [
    {
     "data": {
      "text/plain": [
       "6"
      ]
     },
     "execution_count": 205,
     "metadata": {},
     "output_type": "execute_result"
    }
   ],
   "source": [
    "sum([1,2,3])"
   ]
  },
  {
   "cell_type": "code",
   "execution_count": 206,
   "metadata": {},
   "outputs": [],
   "source": [
    "def get_average_ranking(data_matrix, coords):\n",
    "    utilities = [data_matrix.get_item(c,coords[1])for c in range(data_matrix.get_matrix().shape[0]) if not np.isnan(data_matrix.get_item(c, coords[1]))]\n",
    "    return (1/len(utilities))*sum(utilities)\n",
    "    \n",
    "    "
   ]
  },
  {
   "cell_type": "code",
   "execution_count": 285,
   "metadata": {},
   "outputs": [
    {
     "data": {
      "text/plain": [
       "5.962000000000001"
      ]
     },
     "execution_count": 285,
     "metadata": {},
     "output_type": "execute_result"
    }
   ],
   "source": [
    "get_average_ranking(t4, (0,53))"
   ]
  },
  {
   "cell_type": "code",
   "execution_count": 292,
   "metadata": {},
   "outputs": [],
   "source": [
    "def get_adjusted_weighted_Nnn_sum(distance_matrix, data_matrix, coords, N = 3):\n",
    "    user = coords[0]\n",
    "    closest_users = dist[user,].argsort()[:N]\n",
    "    return closest_users"
   ]
  },
  {
   "cell_type": "code",
   "execution_count": 293,
   "metadata": {},
   "outputs": [
    {
     "data": {
      "text/plain": [
       "array([0, 2, 1, 4])"
      ]
     },
     "execution_count": 293,
     "metadata": {},
     "output_type": "execute_result"
    }
   ],
   "source": [
    "get_adjusted_weighted_Nnn_sum(dist, t4, (0,1), 4)"
   ]
  },
  {
   "cell_type": "code",
   "execution_count": 264,
   "metadata": {},
   "outputs": [],
   "source": [
    "tmp = dist[np.arange(dist.shape[0]) != 1][:,1]"
   ]
  },
  {
   "cell_type": "code",
   "execution_count": 296,
   "metadata": {},
   "outputs": [
    {
     "data": {
      "text/plain": [
       "array([-0.23975997, -0.07953065,  0.04503484, -0.11300586])"
      ]
     },
     "execution_count": 296,
     "metadata": {},
     "output_type": "execute_result"
    }
   ],
   "source": []
  },
  {
   "cell_type": "code",
   "execution_count": 295,
   "metadata": {},
   "outputs": [
    {
     "data": {
      "text/plain": [
       "array([2, 1, 3, 0])"
      ]
     },
     "execution_count": 295,
     "metadata": {},
     "output_type": "execute_result"
    }
   ],
   "source": [
    "np.abs(tmp).argsort()"
   ]
  },
  {
   "cell_type": "code",
   "execution_count": 284,
   "metadata": {},
   "outputs": [
    {
     "data": {
      "text/plain": [
       "array([0, 1, 3])"
      ]
     },
     "execution_count": 284,
     "metadata": {},
     "output_type": "execute_result"
    }
   ],
   "source": [
    "np.delete(dist[0,],0).argsort()[:3]"
   ]
  },
  {
   "cell_type": "code",
   "execution_count": 250,
   "metadata": {},
   "outputs": [],
   "source": [
    "t = np.delete(tmp,0)"
   ]
  },
  {
   "cell_type": "code",
   "execution_count": 254,
   "metadata": {},
   "outputs": [
    {
     "data": {
      "text/plain": [
       "array([2, 0, 1])"
      ]
     },
     "execution_count": 254,
     "metadata": {},
     "output_type": "execute_result"
    }
   ],
   "source": [
    "t.argsort()[:3]"
   ]
  },
  {
   "cell_type": "code",
   "execution_count": 182,
   "metadata": {},
   "outputs": [
    {
     "data": {
      "text/plain": [
       "array([[ 0.        , -0.23975997,  0.08422171,  0.39590991],\n",
       "       [ 0.08422171, -0.07953065,  0.        ,  0.34000639],\n",
       "       [ 0.39590991,  0.04503484,  0.34000639,  0.        ]])"
      ]
     },
     "execution_count": 182,
     "metadata": {},
     "output_type": "execute_result"
    }
   ],
   "source": [
    "dist[np.arange(dist.shape[0]) != 1]"
   ]
  },
  {
   "cell_type": "code",
   "execution_count": 213,
   "metadata": {},
   "outputs": [
    {
     "data": {
      "text/plain": [
       "array([[ 0.        , -0.23975997,  0.08422171,  0.39590991,  0.33005565],\n",
       "       [-0.23975997,  0.        , -0.07953065,  0.04503484, -0.11300586],\n",
       "       [ 0.08422171, -0.07953065,  0.        ,  0.34000639,  0.33146463],\n",
       "       [ 0.39590991,  0.04503484,  0.34000639,  0.        ,  0.44410961],\n",
       "       [ 0.33005565, -0.11300586,  0.33146463,  0.44410961,  0.        ]])"
      ]
     },
     "execution_count": 213,
     "metadata": {},
     "output_type": "execute_result"
    }
   ],
   "source": [
    "dist"
   ]
  },
  {
   "cell_type": "code",
   "execution_count": null,
   "metadata": {},
   "outputs": [],
   "source": []
  }
 ],
 "metadata": {
  "kernelspec": {
   "display_name": "Python 3",
   "language": "python",
   "name": "python3"
  },
  "language_info": {
   "codemirror_mode": {
    "name": "ipython",
    "version": 3
   },
   "file_extension": ".py",
   "mimetype": "text/x-python",
   "name": "python",
   "nbconvert_exporter": "python",
   "pygments_lexer": "ipython3",
   "version": "3.6.5"
  }
 },
 "nbformat": 4,
 "nbformat_minor": 2
}
