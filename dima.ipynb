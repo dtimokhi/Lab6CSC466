{
 "cells": [
  {
   "cell_type": "code",
   "execution_count": 2,
   "metadata": {},
   "outputs": [],
   "source": [
    "import numpy as np\n",
    "import pandas as pd"
   ]
  },
  {
   "cell_type": "code",
   "execution_count": 3,
   "metadata": {},
   "outputs": [],
   "source": [
    "file_t = open('jester-data-1.csv').readlines()"
   ]
  },
  {
   "cell_type": "code",
   "execution_count": 6,
   "metadata": {},
   "outputs": [],
   "source": [
    "mp = pd.read_csv('jester-data-1.csv', header=None).as_matrix()"
   ]
  },
  {
   "cell_type": "code",
   "execution_count": 7,
   "metadata": {},
   "outputs": [
    {
     "data": {
      "text/plain": [
       "array([[ 74.  ,  -7.82,   8.79, ...,  99.  ,  99.  ,  99.  ],\n",
       "       [100.  ,   4.08,  -0.29, ...,   0.34,  -4.32,   1.07],\n",
       "       [ 49.  ,  99.  ,  99.  , ...,  99.  ,  99.  ,  99.  ],\n",
       "       ...,\n",
       "       [ 39.  ,  99.  ,  99.  , ...,  99.  ,  99.  ,  99.  ],\n",
       "       [ 37.  ,  99.  ,  99.  , ...,  99.  ,  99.  ,  99.  ],\n",
       "       [ 72.  ,   2.43,   2.67, ...,  99.  ,  99.  ,  99.  ]])"
      ]
     },
     "execution_count": 7,
     "metadata": {},
     "output_type": "execute_result"
    }
   ],
   "source": [
    "mp"
   ]
  },
  {
   "cell_type": "code",
   "execution_count": 15,
   "metadata": {},
   "outputs": [],
   "source": [
    "def get_matrix():\n",
    "    return pd.read_csv('jester-data-1.csv', header=None, na_values=99).iloc[:,1:].as_matrix()"
   ]
  },
  {
   "cell_type": "code",
   "execution_count": 24,
   "metadata": {},
   "outputs": [],
   "source": [
    "class JokerObject:\n",
    "    def __init__(self, matrix):\n",
    "        self.matrix = matrix\n",
    "        self.item_means = np.nanmean(matrix, 0)\n",
    "        self.user_means = np.nanmean(matrix, 1)\n",
    "    def get_matrix(self):\n",
    "        return self.matrix\n",
    "    def get_items_m(self):\n",
    "        return self.item_means\n",
    "    def get_item_m(self, key):\n",
    "        return self.item_means[key]\n",
    "    def get_users_m(self):\n",
    "        return self.user_means\n",
    "    def get_user_m(self, key):\n",
    "        return self.user_means[key]"
   ]
  },
  {
   "cell_type": "code",
   "execution_count": null,
   "metadata": {},
   "outputs": [],
   "source": []
  }
 ],
 "metadata": {
  "kernelspec": {
   "display_name": "Python 3",
   "language": "python",
   "name": "python3"
  },
  "language_info": {
   "codemirror_mode": {
    "name": "ipython",
    "version": 3
   },
   "file_extension": ".py",
   "mimetype": "text/x-python",
   "name": "python",
   "nbconvert_exporter": "python",
   "pygments_lexer": "ipython3",
   "version": "3.6.5"
  }
 },
 "nbformat": 4,
 "nbformat_minor": 2
}
